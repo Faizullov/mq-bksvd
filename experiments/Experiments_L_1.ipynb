{
  "cells": [
    {
      "cell_type": "code",
      "execution_count": null,
      "metadata": {
        "id": "_svJN5pSagdR"
      },
      "outputs": [],
      "source": [
        "# general\n",
        "import numpy as np\n",
        "import matplotlib.pyplot as plt\n",
        "import seaborn as sns\n",
        "sns.set(style='whitegrid')\n",
        "from scipy.sparse.linalg import svds\n",
        "\n",
        "# our implementations\n",
        "from bksvd import *\n",
        "from DistMatrix import L1DistMatrix\n",
        "from DistMatrix import L2_2DistMatrix\n",
        "\n",
        "# utils\n",
        "from scipy.spatial import distance_matrix\n",
        "from sklearn.metrics import pairwise_distances\n",
        "from scipy.spatial.distance import cdist\n",
        "from time import time"
      ]
    },
    {
      "cell_type": "markdown",
      "metadata": {
        "id": "SYeOlklnRJ3Q"
      },
      "source": [
        "## Gaussian mixture"
      ]
    },
    {
      "cell_type": "code",
      "execution_count": null,
      "metadata": {
        "id": "1NfIgq3ca2p7"
      },
      "outputs": [],
      "source": [
        "def make_data(size, metric='l1'):\n",
        "  # Create dataset\n",
        "    points = np.random.normal(size=size)\n",
        "    points = np.vstack((points, np.random.normal(size=size) + 5))\n",
        "    points = np.vstack((points, np.random.normal(size=size) - 5))\n",
        "    points = points.astype('float32')\n",
        "    print(f'dataset\\n type: {points.dtype},\\t shape: {points.shape}\\n')\n",
        "\n",
        "  # Create distance matrix\n",
        "    if metric == 'l1':\n",
        "        start = time()\n",
        "        dist = pairwise_distances(points, metric=metric)\n",
        "    elif metric == 'l2_2':\n",
        "        start = time()\n",
        "        dist = cdist(points, points, 'sqeuclidean')\n",
        "    print(f'dist matrix\\n type: {dist.dtype},\\t shape: {dist.shape}\\n')\n",
        "    print('seconds for dist matrix building:\\t', time() - start)\n",
        "  \n",
        "    return points, dist"
      ]
    },
    {
      "cell_type": "code",
      "execution_count": null,
      "metadata": {
        "colab": {
          "base_uri": "https://localhost:8080/"
        },
        "id": "CKt2i9qibFuP",
        "outputId": "0c8b27d2-5b8d-42a2-f6ca-5866f0e80af0"
      },
      "outputs": [
        {
          "name": "stdout",
          "output_type": "stream",
          "text": [
            "dataset\n",
            " type: float32,\t shape: (15000, 50)\n",
            "\n",
            "dist matrix\n",
            " type: float64,\t shape: (15000, 15000)\n",
            "\n",
            "seconds for dist matrix building:\t 10.552599668502808\n"
          ]
        }
      ],
      "source": [
        "n = 5000\n",
        "d = 50\n",
        "size = (n, d)\n",
        "points, dist = make_data(size)"
      ]
    },
    {
      "cell_type": "code",
      "execution_count": null,
      "metadata": {
        "colab": {
          "base_uri": "https://localhost:8080/"
        },
        "id": "akwbKPUeb4nD",
        "outputId": "cc634322-322d-4de1-9180-820e08fdc804"
      },
      "outputs": [
        {
          "name": "stdout",
          "output_type": "stream",
          "text": [
            "seconds for preprocessing:\t 0.22779083251953125\n"
          ]
        }
      ],
      "source": [
        "# Preprocess using our algorithm\n",
        "A = L1DistMatrix(points)\n",
        "start = time()\n",
        "A.preprocess()\n",
        "print('seconds for preprocessing:\\t', time()-start)"
      ]
    },
    {
      "cell_type": "code",
      "execution_count": null,
      "metadata": {
        "id": "pgWOC55AVo-n"
      },
      "outputs": [],
      "source": [
        "k = 5\n",
        "num_iter = 80\n",
        "block_size = 6"
      ]
    },
    {
      "cell_type": "code",
      "execution_count": null,
      "metadata": {
        "colab": {
          "base_uri": "https://localhost:8080/"
        },
        "id": "47jRsLIvcLhP",
        "outputId": "7690272b-373c-46c2-8e65-1e9d5d8a9416"
      },
      "outputs": [
        {
          "name": "stdout",
          "output_type": "stream",
          "text": [
            "seconds for svds:\t 54.04210138320923\n"
          ]
        }
      ],
      "source": [
        "start = time()\n",
        "U, S, V = svds(dist, k)\n",
        "print('seconds for svds:\\t', time() - start)"
      ]
    },
    {
      "cell_type": "code",
      "execution_count": null,
      "metadata": {
        "id": "n-4JgpUJcWsk"
      },
      "outputs": [],
      "source": [
        "frob_sci = np.linalg.norm(U @ np.diag(S) @ V - dist)\n",
        "u, s, v, conv = bksvd_h_conv(A, k, num_iter, block_size, dist, frob_sci)"
      ]
    },
    {
      "cell_type": "code",
      "execution_count": null,
      "metadata": {
        "colab": {
          "base_uri": "https://localhost:8080/",
          "height": 312
        },
        "id": "pb_ajI5SlmeI",
        "outputId": "aa601a4e-cbc1-4363-9999-ae0f8d49caf6"
      },
      "outputs": [
        {
          "data": {
            "image/png": "[encoded data removed]",
            "text/plain": [
              "<Figure size 432x288 with 1 Axes>"
            ]
          },
          "metadata": {},
          "output_type": "display_data"
        }
      ],
      "source": [
        "cumtime = np.array(conv['time']).cumsum()\n",
        "\n",
        "fig, ax = plt.subplots()\n",
        "ax.plot(cumtime, conv['error'], linewidth=3)\n",
        "\n",
        "ax.set_title(r'Ошибка vs время, BKSVD $\\ell_1$', fontsize=16)\n",
        "ax.set_xlabel('Время, c', fontsize=16)\n",
        "ax.set_ylabel(r'$\\frac{||\\widehat{A_k}-A||_F}{||A_k-A||_F}-1$', fontsize=16, rotation=0)\n",
        "ax.yaxis.set_label_coords(-0.25, 0.4)\n",
        "ax.tick_params(labelsize=12)\n",
        "\n",
        "ax.set_yscale('log')\n",
        "plt.savefig('errortimel2.svg', bbox_inches='tight')"
      ]
    },
    {
      "cell_type": "code",
      "execution_count": null,
      "metadata": {
        "id": "5mOk3pyCgNMS"
      },
      "outputs": [],
      "source": [
        "del dist\n",
        "del points"
      ]
    },
    {
      "cell_type": "markdown",
      "metadata": {
        "id": "P7I-Tg8ZWvFi"
      },
      "source": [
        "## MNIST"
      ]
    },
    {
      "cell_type": "code",
      "execution_count": null,
      "metadata": {
        "id": "UU3eHYlP0xPj"
      },
      "outputs": [],
      "source": [
        "from sklearn.datasets import fetch_openml\n",
        "mnist = fetch_openml('mnist_784')\n",
        "train = mnist['data'].to_numpy()\n",
        "points = train[:15000, :]"
      ]
    },
    {
      "cell_type": "code",
      "execution_count": null,
      "metadata": {
        "colab": {
          "base_uri": "https://localhost:8080/"
        },
        "id": "jeYq02DB1QWt",
        "outputId": "5bf0898e-11a3-4caa-e276-1918df356b31"
      },
      "outputs": [
        {
          "name": "stdout",
          "output_type": "stream",
          "text": [
            "dist matrix\n",
            " type: float64,\t shape: (15000, 15000)\n",
            "\n",
            "seconds for dist matrix building:\t 525.258691072464\n"
          ]
        }
      ],
      "source": [
        "start = time()\n",
        "dist = pairwise_distances(points, metric='l1')\n",
        "print(f'dist matrix\\n type: {dist.dtype},\\t shape: {dist.shape}\\n')\n",
        "print('seconds for dist matrix building:\\t', time() - start)"
      ]
    },
    {
      "cell_type": "code",
      "execution_count": null,
      "metadata": {
        "colab": {
          "base_uri": "https://localhost:8080/"
        },
        "id": "9iN-BiZd4K57",
        "outputId": "0dafc883-3e36-4e8e-8a2c-63ef0c7ef34b"
      },
      "outputs": [
        {
          "name": "stdout",
          "output_type": "stream",
          "text": [
            "seconds for preprocessing:\t 3.103580951690674\n"
          ]
        }
      ],
      "source": [
        "A = L1DistMatrix(points)\n",
        "start = time()\n",
        "A.preprocess()\n",
        "print('seconds for preprocessing:\\t', time()-start)"
      ]
    },
    {
      "cell_type": "code",
      "execution_count": null,
      "metadata": {
        "id": "-bPPRWCQWD56"
      },
      "outputs": [],
      "source": [
        "k = 5\n",
        "num_iter = 7\n",
        "block_size = 6"
      ]
    },
    {
      "cell_type": "code",
      "execution_count": null,
      "metadata": {
        "colab": {
          "base_uri": "https://localhost:8080/"
        },
        "id": "grzzRJp74N8T",
        "outputId": "6ba9eb60-9f4d-4162-ca5d-594015e9c756"
      },
      "outputs": [
        {
          "name": "stdout",
          "output_type": "stream",
          "text": [
            "seconds for scipy:\t 13.953890085220337\n"
          ]
        }
      ],
      "source": [
        "start = time()\n",
        "Us, Ss, Vs = svds(dist, k)\n",
        "print('seconds for scipy:\\t', time() - start)"
      ]
    },
    {
      "cell_type": "code",
      "execution_count": null,
      "metadata": {
        "id": "6Jn9_ygY4T-a"
      },
      "outputs": [],
      "source": [
        "frob_sci = np.linalg.norm(Us @ np.diag(Ss) @ Vs - dist)\n",
        "u, s, v, conv = bksvd_h_conv(A, k, num_iter, block_size, dist, frob_sci)"
      ]
    },
    {
      "cell_type": "code",
      "execution_count": null,
      "metadata": {
        "colab": {
          "base_uri": "https://localhost:8080/",
          "height": 312
        },
        "id": "SqQA9mEf4bgQ",
        "outputId": "a20c016a-db25-400f-9e81-e5736e5cadb5"
      },
      "outputs": [
        {
          "data": {
            "image/png": "[encoded data removed]",
            "text/plain": [
              "<Figure size 432x288 with 1 Axes>"
            ]
          },
          "metadata": {},
          "output_type": "display_data"
        }
      ],
      "source": [
        "cumtime = np.array(conv['time']).cumsum()\n",
        "\n",
        "fig, ax = plt.subplots()\n",
        "ax.plot(cumtime, conv['error'], linewidth=3)\n",
        "\n",
        "ax.set_title(r'Ошибка vs время, BKSVD $\\ell_1$', fontsize=16)\n",
        "ax.set_xlabel('Время, c', fontsize=16)\n",
        "ax.set_ylabel(r'$\\frac{||\\widehat{A_k}-A||_F}{||A_k-A||_F}-1$', fontsize=16, rotation=0)\n",
        "ax.yaxis.set_label_coords(-0.25, 0.4)\n",
        "ax.tick_params(labelsize=12)\n",
        "\n",
        "ax.set_yscale('log')\n",
        "plt.savefig('l1_mnist.svg', bbox_inches='tight')"
      ]
    }
  ],
  "metadata": {
    "colab": {
      "provenance": []
    },
    "kernelspec": {
      "display_name": "Python 3",
      "name": "python3"
    },
    "language_info": {
      "name": "python"
    }
  },
  "nbformat": 4,
  "nbformat_minor": 0
}
