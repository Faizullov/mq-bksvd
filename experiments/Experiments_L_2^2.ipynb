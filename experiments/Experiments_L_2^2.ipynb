{
  "nbformat": 4,
  "nbformat_minor": 0,
  "metadata": {
    "colab": {
      "provenance": []
    },
    "kernelspec": {
      "name": "python3",
      "display_name": "Python 3"
    },
    "language_info": {
      "name": "python"
    }
  },
  "cells": [
    {
      "cell_type": "code",
      "execution_count": null,
      "metadata": {
        "id": "VrBOzhPIjCd6"
      },
      "outputs": [],
      "source": [
        "# general\n",
        "import numpy as np\n",
        "import matplotlib.pyplot as plt\n",
        "import seaborn as sns\n",
        "sns.set(style='whitegrid')\n",
        "from scipy.sparse.linalg import svds\n",
        "\n",
        "# our implementations\n",
        "from bksvd import *\n",
        "from DistMatrix import L1DistMatrix\n",
        "from DistMatrix import L2_2DistMatrix\n",
        "\n",
        "# utils\n",
        "from scipy.spatial import distance_matrix\n",
        "from sklearn.metrics import pairwise_distances\n",
        "from scipy.spatial.distance import cdist\n",
        "from time import time"
      ]
    },
    {
      "cell_type": "markdown",
      "source": [
        "## Gaussian mixture"
      ],
      "metadata": {
        "id": "oT5w01DXRQtL"
      }
    },
    {
      "cell_type": "code",
      "source": [
        "def make_data(size, metric='l1'):\n",
        "  # Create dataset\n",
        "    points = np.random.normal(size=size)\n",
        "    points = np.vstack((points, np.random.normal(size=size) + 5))\n",
        "    points = np.vstack((points, np.random.normal(size=size) - 5))\n",
        "    points = points.astype('float32')\n",
        "    print(f'dataset\\n type: {points.dtype},\\t shape: {points.shape}\\n')\n",
        "\n",
        "  # Create distance matrix\n",
        "    if metric == 'l1':\n",
        "        start = time()\n",
        "        dist = pairwise_distances(points, metric=metric)\n",
        "    elif metric == 'l2_2':\n",
        "        start = time()\n",
        "        dist = cdist(points, points, 'sqeuclidean')\n",
        "    print(f'dist matrix\\n type: {dist.dtype},\\t shape: {dist.shape}\\n')\n",
        "    print('seconds for dist matrix building:\\t', time() - start)\n",
        "  \n",
        "    return points, dist"
      ],
      "metadata": {
        "id": "_W35DcwNjFXI"
      },
      "execution_count": null,
      "outputs": []
    },
    {
      "cell_type": "code",
      "source": [
        "n = 8000\n",
        "d = 50\n",
        "size = (n, d)\n",
        "points, dist = make_data(size, metric='l2_2')"
      ],
      "metadata": {
        "colab": {
          "base_uri": "https://localhost:8080/"
        },
        "id": "zi_mw0bKjFZ1",
        "outputId": "3b34bd17-f7b1-4dba-b02e-9ce1e63e4f7c"
      },
      "execution_count": null,
      "outputs": [
        {
          "output_type": "stream",
          "name": "stdout",
          "text": [
            "dataset\n",
            " type: float32,\t shape: (24000, 50)\n",
            "\n",
            "dist matrix\n",
            " type: float64,\t shape: (24000, 24000)\n",
            "\n",
            "seconds for dist matrix building:\t 17.469231843948364\n"
          ]
        }
      ]
    },
    {
      "cell_type": "code",
      "source": [
        "k = 5\n",
        "num_iter = 80\n",
        "block_size = 6"
      ],
      "metadata": {
        "id": "TYJG_XDSS03R"
      },
      "execution_count": null,
      "outputs": []
    },
    {
      "cell_type": "code",
      "source": [
        "start = time()\n",
        "U, S, V = svds(dist, k)\n",
        "print('seconds for svds:\\t', time() - start)"
      ],
      "metadata": {
        "colab": {
          "base_uri": "https://localhost:8080/"
        },
        "id": "ZfOfDnp_jvqn",
        "outputId": "38aa7223-5eda-4d11-e57f-35d59494c775"
      },
      "execution_count": null,
      "outputs": [
        {
          "output_type": "stream",
          "name": "stdout",
          "text": [
            "seconds for svds:\t 77.34829688072205\n"
          ]
        }
      ]
    },
    {
      "cell_type": "code",
      "source": [
        "B = L2_2DistMatrix(points)\n",
        "frob_sci = np.linalg.norm(U @ np.diag(S) @ V - dist)\n",
        "u, s, v, conv = bksvd_h_conv(B, k, num_iter, block_size, dist, frob_sci)"
      ],
      "metadata": {
        "id": "hDYqL6rDj0m8"
      },
      "execution_count": null,
      "outputs": []
    },
    {
      "cell_type": "code",
      "source": [
        "cumtime = np.array(conv['time']).cumsum()\n",
        "\n",
        "fig, ax = plt.subplots()\n",
        "ax.plot(cumtime, conv['error'], linewidth=3)\n",
        "\n",
        "ax.set_title(r'Ошибка vs время, BKSVD $\\ell_2^2$', fontsize=16)\n",
        "ax.set_xlabel('Время, c', fontsize=16)\n",
        "ax.set_ylabel(r'$\\frac{||\\widehat{A_k}-A||_F}{||A_k-A||_F}-1$', fontsize=16, rotation=0)\n",
        "ax.yaxis.set_label_coords(-0.25, 0.4)\n",
        "ax.tick_params(labelsize=12)\n",
        "\n",
        "ax.set_yscale('log')\n",
        "plt.savefig('errortimel2.svg', bbox_inches='tight')"
      ],
      "metadata": {
        "colab": {
          "base_uri": "https://localhost:8080/",
          "height": 313
        },
        "id": "WVvLuFnBkF7G",
        "outputId": "15fae944-2b1c-451e-bdf1-45d89db2e40e"
      },
      "execution_count": null,
      "outputs": [
        {
          "output_type": "display_data",
          "data": {
            "text/plain": [
              "<Figure size 432x288 with 1 Axes>"
            ],
            "image/png": "[encoded data removed]"
          },
          "metadata": {}
        }
      ]
    },
    {
      "cell_type": "markdown",
      "source": [
        "## MNIST"
      ],
      "metadata": {
        "id": "vmgBuKCpTCcp"
      }
    },
    {
      "cell_type": "code",
      "source": [
        "from sklearn.datasets import fetch_openml\n",
        "mnist = fetch_openml('mnist_784')\n",
        "train = mnist['data'].to_numpy()\n",
        "points = train[:15000, :]"
      ],
      "metadata": {
        "id": "RVrAB5rx0y2k"
      },
      "execution_count": null,
      "outputs": []
    },
    {
      "cell_type": "code",
      "source": [
        "start = time()\n",
        "dist = cdist(points, points, 'sqeuclidean')\n",
        "print(f'dist matrix\\n type: {dist.dtype},\\t shape: {dist.shape}\\n')\n",
        "print('seconds for dist matrix building:\\t', time() - start)"
      ],
      "metadata": {
        "colab": {
          "base_uri": "https://localhost:8080/"
        },
        "id": "Veq91tLm1R42",
        "outputId": "952c1414-96b2-4c7f-d688-1bb57ae95ea6"
      },
      "execution_count": null,
      "outputs": [
        {
          "output_type": "stream",
          "name": "stdout",
          "text": [
            "dist matrix\n",
            " type: float64,\t shape: (15000, 15000)\n",
            "\n",
            "seconds for dist matrix building:\t 819.4136710166931\n"
          ]
        }
      ]
    },
    {
      "cell_type": "code",
      "source": [
        "k = 5\n",
        "num_iter = 7\n",
        "block_size = 6"
      ],
      "metadata": {
        "id": "BhVsiniiTf9m"
      },
      "execution_count": null,
      "outputs": []
    },
    {
      "cell_type": "code",
      "source": [
        "start = time()\n",
        "Us, Ss, Vs = svds(dist, k)\n",
        "print('seconds for scipy:\\t', time() - start)\n",
        "frob_sci = np.linalg.norm(Us @ np.diag(Ss) @ Vs - dist)"
      ],
      "metadata": {
        "colab": {
          "base_uri": "https://localhost:8080/"
        },
        "id": "x94wHknk4jJt",
        "outputId": "156ad8df-d905-4cd6-915b-dd66ecfbeda1"
      },
      "execution_count": null,
      "outputs": [
        {
          "output_type": "stream",
          "name": "stdout",
          "text": [
            "seconds for scipy:\t 11.668715000152588\n"
          ]
        }
      ]
    },
    {
      "cell_type": "code",
      "source": [
        "A = L2_2DistMatrix(points)\n",
        "frob_sci = np.linalg.norm(Us @ np.diag(Ss) @ Vs - dist)\n",
        "u, s, v, conv = bksvd_h_conv(A, k, num_iter, block_size, dist, frob_sci)"
      ],
      "metadata": {
        "id": "Jsxy3cY44oQR"
      },
      "execution_count": null,
      "outputs": []
    },
    {
      "cell_type": "code",
      "source": [
        "cumtime = np.array(conv['time']).cumsum()\n",
        "\n",
        "fig, ax = plt.subplots()\n",
        "ax.plot(cumtime, conv['error'], linewidth=3)\n",
        "\n",
        "ax.set_title(r'Ошибка vs время, BKSVD $\\ell_2^2$', fontsize=16)\n",
        "ax.set_xlabel('Время, c', fontsize=16)\n",
        "ax.set_ylabel(r'$\\frac{||\\widehat{A_k}-A||_F}{||A_k-A||_F}-1$', fontsize=16, rotation=0)\n",
        "ax.yaxis.set_label_coords(-0.25, 0.4)\n",
        "ax.tick_params(labelsize=12)\n",
        "\n",
        "ax.set_yscale('log')\n",
        "plt.savefig('l2_mnist.svg', bbox_inches='tight')"
      ],
      "metadata": {
        "colab": {
          "base_uri": "https://localhost:8080/",
          "height": 313
        },
        "id": "iCtr1Bd25CQh",
        "outputId": "0ae680c9-0dee-4304-858e-1e504968ed9d"
      },
      "execution_count": null,
      "outputs": [
        {
          "output_type": "display_data",
          "data": {
            "text/plain": [
              "<Figure size 432x288 with 1 Axes>"
            ],
            "image/png": "[encoded data removed]"
          },
          "metadata": {}
        }
      ]
    }
  ]
}